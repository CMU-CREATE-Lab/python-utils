{
 "cells": [
  {
   "cell_type": "code",
   "execution_count": null,
   "metadata": {},
   "outputs": [],
   "source": [
    "import time\n",
    "from utils import reload_module\n",
    "\n",
    "reload_module(\"epsql\")\n",
    "import epsql\n",
    "\n",
    "engine = epsql.Engine()"
   ]
  },
  {
   "cell_type": "code",
   "execution_count": null,
   "metadata": {},
   "outputs": [],
   "source": [
    "engine.add_highest_overlap_crosswalk(\n",
    "    dest_table_name=\"tiger_wgs84.tl_2010_tabblock10\",\n",
    "    dest_row_id=\"geoid10\",\n",
    "    dest_new_col=\"tract_2019\",\n",
    "    src_table_name=\"tiger_wgs84.tl_2019_tract\",\n",
    "    src_col=\"geoid\")"
   ]
  },
  {
   "cell_type": "code",
   "execution_count": null,
   "metadata": {},
   "outputs": [],
   "source": [
    "engine.add_highest_overlap_crosswalk(\n",
    "    dest_table_name=\"tiger_wgs84.tl_2010_tabblock10\",\n",
    "    dest_row_id=\"geoid10\",\n",
    "    dest_new_col=\"tract_2018\",\n",
    "    src_table_name=\"tiger_wgs84.tl_2018_tract\",\n",
    "    src_col=\"geoid\")"
   ]
  }
 ],
 "metadata": {
  "interpreter": {
   "hash": "6cc1866f10edf286b765616ac80c4ad3996e21b72d92ecd5f07154567141a8e5"
  },
  "kernelspec": {
   "display_name": "Python 3.8.5 ('base')",
   "language": "python",
   "name": "python3"
  },
  "language_info": {
   "codemirror_mode": {
    "name": "ipython",
    "version": 3
   },
   "file_extension": ".py",
   "mimetype": "text/x-python",
   "name": "python",
   "nbconvert_exporter": "python",
   "pygments_lexer": "ipython3",
   "version": "3.8.5"
  }
 },
 "nbformat": 4,
 "nbformat_minor": 2
}
