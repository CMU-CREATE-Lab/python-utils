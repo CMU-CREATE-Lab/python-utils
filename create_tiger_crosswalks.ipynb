{
 "cells": [
  {
   "cell_type": "code",
   "execution_count": null,
   "metadata": {},
   "outputs": [],
   "source": [
    "import time\n",
    "from utils import reload_module\n",
    "\n",
    "reload_module(\"epsql\")\n",
    "import epsql\n",
    "\n",
    "engine = epsql.Engine()"
   ]
  },
  {
   "cell_type": "code",
   "execution_count": null,
   "metadata": {},
   "outputs": [],
   "source": [
    "def add_highest_overlap_crosswalk(self, dest_table_name, dest_col, src_table_name, src_col):\n",
    "    # Assumes dest_col should be text\n",
    "    before = time.time()\n",
    "    print(f'Adding {dest_table_name}.{dest_col} as crosswalk to {src_table_name}.{src_col} selecting highest overlap...')\n",
    "    self.execute(f'alter table {dest_table_name} add if not exists {dest_col} text;')\n",
    "    cmd = f\"\"\"\n",
    "    update {dest_table_name} as dest\n",
    "        set {dest_col} = (\n",
    "            select src.{src_col}\n",
    "            from {src_table_name} as src\n",
    "            where st_intersects(src.geom, dest.geom) and not st_touches(src.geom, dest.geom)\n",
    "            order by st_area(st_intersection(src.geom, dest.geom)) desc\n",
    "            limit 1)\n",
    "        --where dest.statefp10='42' and dest.countyfp10='003'\n",
    "        where dest.statefp10='31'\n",
    "    \"\"\"\n",
    "    rowcount = self.execute_update(cmd)\n",
    "    duration = time.time() - before\n",
    "    print(f'Completed {rowcount} rows in {duration:.1f} seconds ({rowcount/duration:.1f} rows/sec)')\n",
    "\n",
    "blarf = add_highest_overlap_crosswalk(engine,\n",
    "    dest_table_name=\"tiger_wgs84.tl_2010_tabblock10\",\n",
    "    dest_col=\"tract_2019\",\n",
    "    src_table_name=\"tiger_wgs84.tl_2019_tract\",\n",
    "    src_col=\"geoid\")\n",
    "\n",
    "#engine.execute_returning_df(\"select * from tiger_wgs84.tl_2019_tract limit 5\")"
   ]
  },
  {
   "cell_type": "code",
   "execution_count": null,
   "metadata": {},
   "outputs": [],
   "source": [
    "table_name = \"tiger_wgs84.tl_2010_tabblock10\"\n",
    "table_sans_schema = epsql.get_table_name(table_name)\n",
    "z=engine.execute(f\"CREATE INDEX IF NOT EXISTS {table_sans_schema}_statefp10_idx ON {table_name} (statefp10)\", verbose=True)\n",
    "z=engine.execute(f\"CREATE INDEX IF NOT EXISTS {table_sans_schema}_statefp10_countyfp10_idx ON {table_name} (statefp10, countyfp10)\", verbose=True)\n"
   ]
  },
  {
   "cell_type": "code",
   "execution_count": null,
   "metadata": {},
   "outputs": [],
   "source": [
    "engine.execute_count(\"SELECT COUNT(*) FROM tiger_wgs84.tl_2010_tabblock10\")"
   ]
  },
  {
   "cell_type": "code",
   "execution_count": null,
   "metadata": {},
   "outputs": [],
   "source": [
    "engine.execute_returning_df(\"SELECT * FROM tiger_wgs84.tl_2010_tabblock10 limit 10\")"
   ]
  },
  {
   "cell_type": "code",
   "execution_count": null,
   "metadata": {},
   "outputs": [],
   "source": [
    "engine.execute_count(\"SELECT count(*) FROM tiger_wgs84.tl_2010_tabblock10 where left(geoid10,11) <> tract_2019\")"
   ]
  },
  {
   "cell_type": "code",
   "execution_count": null,
   "metadata": {},
   "outputs": [],
   "source": []
  },
  {
   "cell_type": "code",
   "execution_count": null,
   "metadata": {},
   "outputs": [],
   "source": [
    "gdf = engine.execute_returning_gdf(\"SELECT * FROM tiger_wgs84.tl_2010_tabblock10 where statefp10='42' and countyfp10='003' and left(geoid10,11) <> tract_2019\")"
   ]
  },
  {
   "cell_type": "code",
   "execution_count": null,
   "metadata": {},
   "outputs": [],
   "source": [
    "#import matplotlib.pyplot as plt\n",
    "#plt.rcParams['figure.figsize'] = [10, 5]\n",
    "import matplotlib.pyplot as plt\n",
    "\n",
    "plt.rcParams['figure.figsize'] = [15, 15]\n",
    "gdf.plot()\n"
   ]
  },
  {
   "cell_type": "code",
   "execution_count": null,
   "metadata": {},
   "outputs": [],
   "source": []
  }
 ],
 "metadata": {
  "interpreter": {
   "hash": "6cc1866f10edf286b765616ac80c4ad3996e21b72d92ecd5f07154567141a8e5"
  },
  "kernelspec": {
   "display_name": "Python 3.8.5 ('base')",
   "language": "python",
   "name": "python3"
  },
  "language_info": {
   "codemirror_mode": {
    "name": "ipython",
    "version": 3
   },
   "file_extension": ".py",
   "mimetype": "text/x-python",
   "name": "python",
   "nbconvert_exporter": "python",
   "pygments_lexer": "ipython3",
   "version": "3.8.5"
  }
 },
 "nbformat": 4,
 "nbformat_minor": 2
}
