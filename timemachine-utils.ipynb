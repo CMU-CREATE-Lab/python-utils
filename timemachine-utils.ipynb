{
 "cells": [
  {
   "cell_type": "code",
   "execution_count": 0,
   "metadata": {
    "collapsed": false
   },
   "outputs": [
   ],
   "source": [
    "import json, os, shutil\n",
    "\n",
    "# Requires utils.ipynb\n",
    "\n",
    "# Consider copying hal20:/workspace/earthtime/projects/timemachine-creator"
   ]
  },
  {
   "cell_type": "code",
   "execution_count": 0,
   "metadata": {
    "collapsed": false
   },
   "outputs": [
   ],
   "source": [
    "def prepend_to_PATH(dir):\n",
    "    if dir in os.environ['PATH'].split(':'):\n",
    "        print('%s already in PATH' % dir)\n",
    "    else:\n",
    "        print('Adding %s to PATH' % dir)\n",
    "        os.environ['PATH'] = dir + ':' + os.environ['PATH']\n",
    "\n",
    "def set_ffmpeg_path_for_timemachine(path_to_timemachine_creator):\n",
    "    path_to_ffmpeg = path_to_timemachine_creator + '/tilestacktool/ffmpeg/linux/ffmpeg'\n",
    "    assert(os.path.exists(path_to_ffmpeg))\n",
    "    prepend_to_PATH(os.path.dirname(path_to_ffmpeg))\n",
    "\n",
    "# quality: 24-26 are reasonable?\n",
    "# capture_times is an array of strings in the format of 'YYYY' or (we think but \n",
    "# aren't yet sure) 'YYYY-MM' corresponding to the times of each frame in srcs\n",
    "def create_earthtime_timemachine(timemachine, srcs, capture_times, path_to_timemachine_creator,\n",
    "                                 fps=12, quality=24, overwrite=False): \n",
    "    path_to_ct_rb = path_to_timemachine_creator + '/ct/ct.rb'\n",
    "    set_ffmpeg_path_for_timemachine(path_to_timemachine_creator)\n",
    "    assert(os.path.exists(path_to_ct_rb))\n",
    "    assert os.path.splitext(timemachine)[1] == '.timemachine'\n",
    "    name = os.path.splitext(os.path.basename(timemachine))[0]\n",
    "\n",
    "    definition = {\n",
    "      \"id\": name,\n",
    "      \"label\": name,\n",
    "      \"source\": {\n",
    "          \"type\": \"images\"\n",
    "      },\n",
    "      \"videosets\": [\n",
    "        {\n",
    "          \"type\": \"h.264\",\n",
    "          \"label\": \"600p\",\n",
    "          \"size\": [1068, 600],\n",
    "          \"quality\": quality,\n",
    "          \"fps\": fps\n",
    "        }\n",
    "      ]\n",
    "    }\n",
    "\n",
    "    tmc = os.path.splitext(timemachine)[0] + '.tmc'\n",
    "\n",
    "    print('Creating timemachine from %d images and writing to %s with temporary directory %s' % (len(srcs), timemachine, tmc))\n",
    "\n",
    "    if os.path.exists(tmc):\n",
    "        if overwrite:\n",
    "            shutil.rmtree(tmc)\n",
    "        else:\n",
    "            raise Exception('%s already exists, and overwrite not specified' % tmc)\n",
    "    os.makedirs(tmc)\n",
    "    definition_filename = tmc + '/definition.tmc'\n",
    "    json.dump(definition, open(definition_filename, 'w'))\n",
    "    print('Created %s definition file' % definition_filename)\n",
    "\n",
    "    image_dir = tmc + '/0100-original-images'\n",
    "    os.mkdir(image_dir)\n",
    "    for src in srcs:\n",
    "        os.symlink(os.path.abspath(src), image_dir + '/' + os.path.basename(src))\n",
    "\n",
    "    ct = os.path.expanduser('~/projects/timemachine-creator/ct/ct.rb')\n",
    "    cmd = [ct, '--skip-leader', '-j', '16', '-tile-mode', 'webgl', tmc, timemachine]\n",
    "    print('Running %s' % (' '.join(cmd)))\n",
    "    print subprocess_check(cmd)\n",
    "\n",
    "    # Check for tm.json.  If it exists modify it to set capture-times to capture_times\n",
    "    tm_filename = os.path.join(timemachine, 'tm.json')\n",
    "    if not os.path.exists(tm_filename):\n",
    "        print \"WARNING: Can't modify tm.json.  File not found %s\"%(tm_filename)\n",
    "        return\n",
    "\n",
    "    tm_json = json.load(open(tm_filename))\n",
    "    tm_json['capture-times']=capture_times\n",
    "    json.dump(tm_json, open(tm_filename, 'w'),indent=2)\n",
    "    print \"Updated capture-times in %s\" % (tm_filename)\n",
    "\n"
   ]
  }
 ],
 "metadata": {
  "kernelspec": {
   "display_name": "Anaconda Python 3",
   "language": "python",
   "name": "anaconda_kernel"
  },
  "language_info": {
   "codemirror_mode": {
    "name": "ipython",
    "version": 3
   },
   "file_extension": ".py",
   "mimetype": "text/x-python",
   "name": "python",
   "nbconvert_exporter": "python",
   "pygments_lexer": "ipython3",
   "version": "3.7.3"
  }
 },
 "nbformat": 4,
 "nbformat_minor": 0
}