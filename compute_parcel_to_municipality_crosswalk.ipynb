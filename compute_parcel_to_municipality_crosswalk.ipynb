{
 "cells": [
  {
   "cell_type": "code",
   "execution_count": null,
   "metadata": {},
   "outputs": [],
   "source": [
    "import geopandas as gpd\n",
    "import epsql\n",
    "\n",
    "engine = epsql.Engine()"
   ]
  },
  {
   "cell_type": "code",
   "execution_count": null,
   "metadata": {},
   "outputs": [],
   "source": [
    "missing_parcels = gpd.read_file('/projects/9ab71616-fcde-4524-bf8f-7953c669ebbb/assessments/parcels_missing_from_202106.shp')"
   ]
  },
  {
   "cell_type": "code",
   "execution_count": null,
   "metadata": {},
   "outputs": [],
   "source": [
    "nbd_muni = engine.execute_returning_gdf('select * from allegheny_county_muni_nhbds')"
   ]
  },
  {
   "cell_type": "code",
   "execution_count": null,
   "metadata": {},
   "outputs": [],
   "source": [
    "parcel_nbd_muni = gpd.sjoin(missing_parcels, nbd_muni, how='inner', op='intersects')\n"
   ]
  },
  {
   "cell_type": "code",
   "execution_count": null,
   "metadata": {},
   "outputs": [],
   "source": [
    "parcel_nbd_muni"
   ]
  }
 ],
 "metadata": {
  "interpreter": {
   "hash": "ca8df66848794e873740dff67b44359e4ab066cdc00b17daa5b35f277e6b2d74"
  },
  "kernelspec": {
   "display_name": "Python 3.8.5 64-bit ('superconda-1': conda)",
   "name": "python3"
  },
  "language_info": {
   "codemirror_mode": {
    "name": "ipython",
    "version": 3
   },
   "file_extension": ".py",
   "mimetype": "text/x-python",
   "name": "python",
   "nbconvert_exporter": "python",
   "pygments_lexer": "ipython3",
   "version": "3.8.5"
  }
 },
 "nbformat": 4,
 "nbformat_minor": 2
}
