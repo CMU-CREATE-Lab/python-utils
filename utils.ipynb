{
 "cells": [
  {
   "cell_type": "code",
   "execution_count": 8,
   "metadata": {
    "collapsed": false
   },
   "outputs": [
   ],
   "source": [
    "import concurrent, datetime, math, shutil, subprocess, sys, time\n",
    "try:\n",
    "    import dateutil, dateutil.tz\n",
    "except:\n",
    "    pass\n"
   ]
  },
  {
   "cell_type": "code",
   "execution_count": 0,
   "metadata": {
    "collapsed": false
   },
   "outputs": [
   ],
   "source": [
    "def log(*args):\n",
    "    global logfile\n",
    "    try:\n",
    "        logfile\n",
    "    except:\n",
    "        logfile = None\n",
    "    if logfile:\n",
    "        logfile.write('%s %d: %s\\n' % (datetime.datetime.now().isoformat(' '),\n",
    "                                       os.getpid(),\n",
    "                                       ' '.join(args)))\n",
    "        logfile.flush()\n",
    "    sys.stderr.write('%s\\n' % (' '.join(args)))\n",
    "\n",
    "def start_logging(path):\n",
    "    global logfile\n",
    "    logfile = open(path, 'a')\n",
    "    log('%s logging started' % __file__)\n"
   ]
  },
  {
   "cell_type": "code",
   "execution_count": 0,
   "metadata": {
    "collapsed": false
   },
   "outputs": [
   ],
   "source": [
    "def subprocess_check(*args, **kwargs):\n",
    "    verbose = kwargs.pop('verbose', False)\n",
    "    if len(args) == 1 and type(args[0]) == str:\n",
    "        kwargs['shell'] = True\n",
    "        if verbose:\n",
    "            print(args[0])\n",
    "    elif verbose:\n",
    "        print(' '.join(args[0]))\n",
    "    p = subprocess.Popen(*args,  \n",
    "                         stdout=subprocess.PIPE, \n",
    "                         stderr=subprocess.PIPE,\n",
    "                         **kwargs)\n",
    "    (out, err) = p.communicate()\n",
    "    out = out.decode('utf8')\n",
    "    err = err.decode('utf8')\n",
    "    ret = p.wait()\n",
    "    if ret != 0:\n",
    "        raise Exception(\n",
    "            ('Call to subprocess_check failed with return code {ret}\\n'\n",
    "             'Standard error:\\n{err}'\n",
    "             'Standard out:\\n{out}').format(**locals()))\n",
    "    if len(err) > 0 and len(out) > 0 and err[-1] != '\\n':\n",
    "        err += '\\n'\n",
    "    all = err + out\n",
    "    if verbose and all.strip():\n",
    "        print(all.strip())\n",
    "    return all"
   ]
  },
  {
   "cell_type": "code",
   "execution_count": 0,
   "metadata": {
    "collapsed": false
   },
   "outputs": [
   ],
   "source": [
    "def download_file(url, filename):\n",
    "    if os.path.exists(filename):\n",
    "        sys.stdout.write('%s already downloaded\\n' % filename)\n",
    "    else:\n",
    "        if not os.path.exists(os.path.dirname(filename)):\n",
    "            os.makedirs(os.path.dirname(filename))\n",
    "        sys.stdout.write('Downloading %s to %s\\n' % (url, filename))\n",
    "\n",
    "        try:\n",
    "            response = requests.get(url)\n",
    "            if(response.status_code!=200):\n",
    "                print('Error response, code = %d, body = %s' % (response.status_code, response.text))\n",
    "                return False\n",
    "        except RequestException as e:\n",
    "            sys.stdout.write(\"Couldn't read %s because %s\" % (url, e))\n",
    "            return False\n",
    "\n",
    "        open(filename + '.tmp', \"wb\").write(response.content)\n",
    "        os.rename(filename + '.tmp', filename)\n",
    "        sys.stdout.write('Done, wrote %d bytes to %s\\n' % (len(response.content), filename))\n",
    "        return True\n",
    "\n",
    "def unzip_file(filename):\n",
    "    exdir = os.path.splitext(filename)[0]\n",
    "    if os.path.exists(exdir):\n",
    "        sys.stdout.write('%s already unzipped\\n' % (filename))\n",
    "    else:\n",
    "        tmpdir = exdir + '.tmp'\n",
    "        shutil.rmtree(tmpdir, True)\n",
    "        sys.stdout.write('Unzipping %s into %s\\n' % (filename, tmpdir))\n",
    "        subprocess_check(['unzip', filename, '-d', tmpdir])\n",
    "        os.rename(tmpdir, exdir)\n",
    "        print('Success, created %s' % exdir)\n",
    "    return exdir\n",
    "        \n",
    "def gunzip_file(filename):\n",
    "    dest = os.path.splitext(filename)[0]\n",
    "    if os.path.exists(dest):\n",
    "        sys.stdout.write('%s already unzipped\\n' % (filename))\n",
    "    else:\n",
    "        tmp = dest + '.tmp'\n",
    "        sys.stdout.write('gunzipping %s\\n' % (filename))\n",
    "        subprocess.check_call(\"gunzip -c '%s' > '%s'\" % (filename, tmp), shell=True)\n",
    "        os.rename(tmp, dest)\n",
    "        sys.stdout.write('Success, created %s\\n' % (dest))\n"
   ]
  },
  {
   "cell_type": "code",
   "execution_count": 0,
   "metadata": {
    "collapsed": false
   },
   "outputs": [
   ],
   "source": [
    "# Raises worker exceptions in shutdown\n",
    "\n",
    "class SimpleThreadPoolExecutor(concurrent.futures.ThreadPoolExecutor):\n",
    "    def __init__(self, max_workers):\n",
    "        super(SimpleThreadPoolExecutor, self).__init__(max_workers=max_workers)\n",
    "        self.futures = []\n",
    "        \n",
    "    def submit(self, fn, *args, **kwargs):\n",
    "        future = super(SimpleThreadPoolExecutor, self).submit(fn, *args, **kwargs)\n",
    "        self.futures.append(future)\n",
    "        return future\n",
    "    \n",
    "    def get_futures(self):\n",
    "        return self.futures\n",
    "\n",
    "    def shutdown(self):\n",
    "        exception_count = 0\n",
    "        results = []\n",
    "        for completed in concurrent.futures.as_completed(self.futures):\n",
    "            try:\n",
    "                results.append(completed.result())\n",
    "            except Exception as e:\n",
    "                exception_count += 1\n",
    "                sys.stderr.write(\n",
    "                    'Exception caught in SimpleThreadPoolExecutor.shutdown.  Continuing until all are finished.\\n' +\n",
    "                    'Exception follows:\\n' +\n",
    "                    traceback.format_exc())\n",
    "        super(SimpleThreadPoolExecutor, self).shutdown()\n",
    "        if exception_count:\n",
    "            raise Exception('SimpleThreadPoolExecutor failed: %d of %d raised exception' % (exception_count, len(self.futures)))\n",
    "        print('SimpleThreadPoolExecutor succeeded: all %d jobs completed' % len(self.futures))\n",
    "        return results\n",
    "        \n",
    "\n",
    "class SimpleProcessPoolExecutor(concurrent.futures.ProcessPoolExecutor):\n",
    "    def __init__(self, max_workers):\n",
    "        super(SimpleProcessPoolExecutor, self).__init__(max_workers=max_workers)\n",
    "        self.futures = []\n",
    "        \n",
    "    def submit(self, fn, *args, **kwargs):\n",
    "        future = super(SimpleProcessPoolExecutor, self).submit(fn, *args, **kwargs)\n",
    "        self.futures.append(future)\n",
    "        return future\n",
    "    \n",
    "    def get_futures(self):\n",
    "        return self.futures\n",
    "\n",
    "    def shutdown(self):\n",
    "        exception_count = 0\n",
    "        results = []\n",
    "        for completed in concurrent.futures.as_completed(self.futures):\n",
    "            try:\n",
    "                results.append(completed.result())\n",
    "            except Exception as e:\n",
    "                exception_count += 1\n",
    "                sys.stderr.write(\n",
    "                    'Exception caught in SimpleProcessPoolExecutor.shutdown.  Continuing until all are finished.\\n' +\n",
    "                    'Exception follows:\\n' +\n",
    "                    traceback.format_exc())\n",
    "        super(SimpleProcessPoolExecutor, self).shutdown()\n",
    "        if exception_count:\n",
    "            raise Exception('SimpleProcessPoolExecutor failed: %d of %d raised exception' % (exception_count, len(self.futures)))\n",
    "        print('SimpleProcessPoolExecutor succeeded: all %d jobs completed' % len(self.futures))\n",
    "        return results"
   ]
  },
  {
   "cell_type": "code",
   "execution_count": 0,
   "metadata": {
    "collapsed": false
   },
   "outputs": [
   ],
   "source": [
    "class Stopwatch:\n",
    "    def __init__(self, name):\n",
    "        self.name = name\n",
    "    def __enter__(self):\n",
    "        self.start = time.time()\n",
    "    def __exit__(self, type, value, traceback):\n",
    "        sys.stdout.write('%s took %.1f seconds\\n' % (self.name, time.time() - self.start))\n",
    "\n",
    "#with Stopwatch('Sleeping for half a second'):\n",
    "#    time.sleep(0.5)"
   ]
  },
  {
   "cell_type": "code",
   "execution_count": null,
   "metadata": {},
   "outputs": [],
   "source": [
    "def sleep_until_next_period(period, offset=0):\n",
    "    now = time.time()\n",
    "    start_of_next_period = math.ceil((now - offset) / period) * period + offset\n",
    "    delay = start_of_next_period - now\n",
    "    print('sleep_until_next_period(%d, %d) sleeping %d seconds until %s' % \n",
    "          (period, offset, delay, datetime.datetime.fromtimestamp(start_of_next_period).strftime('%H:%M:%S')))\n",
    "    time.sleep(delay)"
   ]
  },
  {
   "cell_type": "code",
   "execution_count": 0,
   "metadata": {
    "collapsed": false
   },
   "outputs": [
   ],
   "source": [
    "class Stat:\n",
    "    hostname = None\n",
    "    \n",
    "    @staticmethod\n",
    "    def get_datetime():\n",
    "        return datetime.datetime.now(dateutil.tz.tzlocal()).isoformat()\n",
    "    \n",
    "    @staticmethod\n",
    "    def get_hostname():\n",
    "        if not Stat.hostname:\n",
    "            Stat.hostname = subprocess_check('hostname').strip()\n",
    "        return Stat.hostname\n",
    "        \n",
    "    @staticmethod\n",
    "    def log(service, level, summary, details=None, host=None, payload={}):\n",
    "        host = host or Stat.get_hostname()\n",
    "        payload = {\n",
    "                'service':service,\n",
    "                'datetime':Stat.get_datetime(),\n",
    "                'host':host,\n",
    "                'level':level,\n",
    "                'summary':summary,\n",
    "                'details':details,\n",
    "                'payload':payload\n",
    "            }\n",
    "        print('Stat.log %s' % json.dumps(payload))\n",
    "        response = requests.post('https://stat.createlab.org/api/log', json=payload)\n",
    "        if response.status_code != 200:\n",
    "            raise Exception('POST to https://stat.createlab.org/api/log failed: %s' % response.text)\n",
    "                \n",
    " \n",
    "# Stat.log('RAMP2ESDR', 'up', 'Upload succeeded and data is up-to-date')"
   ]
  },
  {
   "cell_type": "code",
   "execution_count": null,
   "metadata": {},
   "outputs": [],
   "source": [
    "def notebook_wide_display():\n",
    "    # Wide display\n",
    "    from IPython.core.display import display, HTML\n",
    "    display(HTML(\"<style>#notebook-container { margin-left:-14px; width:calc(100% + 27px) !important; }</style>\"))\n"
   ]
  }
 ],
 "metadata": {
  "kernelspec": {
   "display_name": "Python 3 (Ubuntu Linux)",
   "language": "python",
   "name": "python3"
  },
  "language_info": {
   "codemirror_mode": {
    "name": "ipython",
    "version": 3
   },
   "file_extension": ".py",
   "mimetype": "text/x-python",
   "name": "python",
   "nbconvert_exporter": "python",
   "pygments_lexer": "ipython3",
   "version": "3.7.0"
  }
 },
 "nbformat": 4,
 "nbformat_minor": 0
}